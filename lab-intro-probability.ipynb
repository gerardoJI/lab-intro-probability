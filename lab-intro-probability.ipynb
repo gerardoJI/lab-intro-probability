{
 "cells": [
  {
   "cell_type": "markdown",
   "metadata": {},
   "source": [
    "# Lab | Intro to Probability"
   ]
  },
  {
   "cell_type": "markdown",
   "metadata": {},
   "source": [
    "**Objective**\n",
    "\n",
    "Welcome to this Intro to Probability lab, where we explore decision-making scenarios through the lens of probability and strategic analysis. In the business world, making informed decisions is crucial, especially when faced with uncertainties. This lab focuses on scenarios where probabilistic outcomes play a significant role in shaping strategies and outcomes. Students will engage in exercises that require assessing and choosing optimal paths based on data-driven insights. The goal is to enhance your skills by applying probability concepts to solve real-world problems."
   ]
  },
  {
   "cell_type": "markdown",
   "metadata": {},
   "source": [
    "**Challenge 1**"
   ]
  },
  {
   "cell_type": "markdown",
   "metadata": {},
   "source": [
    "#### Ironhack Airlines \n",
    "\n",
    "Often Airlines sell more tickets than they have seats available, this is called overbooking. Consider the following:\n",
    "- A plane has 450 seats. \n",
    "- Based on historical data we conclude that each individual passenger has a 3% chance of missing it's flight. \n",
    "\n",
    "If the Ironhack Airlines routinely sells 460 tickets, what is the chance that they have a seats for all passenger?"
   ]
  },
  {
   "cell_type": "code",
   "execution_count": 10,
   "metadata": {},
   "outputs": [
    {
     "data": {
      "text/plain": [
       "0.8844772466215431"
      ]
     },
     "execution_count": 10,
     "metadata": {},
     "output_type": "execute_result"
    }
   ],
   "source": [
    "#DATOS\n",
    "#total_asientos=450\n",
    "#boletos_vendidos=460\n",
    "#prob_si_viajar=1-0.03\n",
    "\n",
    "from scipy.stats import binom\n",
    "\n",
    "boletos_vendidos=460 # parámetro n\n",
    "prob_si_viajar=1-0.03 #p \n",
    "total_asientos=450 #k\n",
    "#La función binom.cdf obtiene la probabilidad de que el valor de n sea menor o igual a k.\n",
    "#Es decir, cuál es la probabilidad de que no se presenten más de 450 pasajeros.\n",
    "probability = binom.cdf(total_asientos,boletos_vendidos,prob_si_viajar)\n",
    "probability"
   ]
  },
  {
   "cell_type": "markdown",
   "metadata": {},
   "source": [
    "**Challenge 2**"
   ]
  },
  {
   "cell_type": "markdown",
   "metadata": {},
   "source": [
    "#### Ironhack Call Center "
   ]
  },
  {
   "cell_type": "markdown",
   "metadata": {},
   "source": [
    "Suppose a customer service representative at a call center is handling customer complaints. Consider the following:\n",
    "- The probability of successfully resolving a customer complaint on the first attempt is 0.3. \n",
    "\n",
    "\n",
    "What is the probability that the representative needs to make at least three attempts before successfully resolving a customer complaint?"
   ]
  },
  {
   "cell_type": "code",
   "execution_count": 18,
   "metadata": {},
   "outputs": [
    {
     "data": {
      "text/plain": [
       "0.49"
      ]
     },
     "execution_count": 18,
     "metadata": {},
     "output_type": "execute_result"
    }
   ],
   "source": [
    "\"\"\"Considerando que La distribución geométrica describe el número de intentos necesarios hasta el primer éxito\n",
    "\"\"\"\n",
    "from scipy.stats import geom\n",
    "#La función devuelve la probabilidad de que el éxito ocurra en k eventos o antes. \n",
    "#Por lo tanto, se debe obtener la probabilidad de éxito en 2 eventos, y obtener la prob complementaria (éxito en 3er intento o después).\n",
    "intentos_antes_de_exito=2 #k\n",
    "prob_exito=0.3 #p\n",
    "probabilidad_menos_3_intentos =1- geom.cdf(2, prob_exito)\n",
    "probabilidad_menos_3_intentos"
   ]
  },
  {
   "cell_type": "markdown",
   "metadata": {},
   "source": [
    "**Challenge 3**"
   ]
  },
  {
   "cell_type": "markdown",
   "metadata": {},
   "source": [
    "#### Ironhack Website"
   ]
  },
  {
   "cell_type": "markdown",
   "metadata": {},
   "source": [
    "Consider a scenario related to Ironhack website traffic. Where:\n",
    "- our website takes on average 500 visits per hour.\n",
    "- the website's server is designed to handle up to 550 vists per hour.\n",
    "\n",
    "\n",
    "What is the probability of the website server being overwhelmed?"
   ]
  },
  {
   "cell_type": "code",
   "execution_count": 2,
   "metadata": {},
   "outputs": [
    {
     "name": "stdout",
     "output_type": "stream",
     "text": [
      "0.01289822084039205\n"
     ]
    }
   ],
   "source": [
    "from scipy.stats import poisson\n",
    "'''\n",
    "La distribución de Poisson describe la probabilidad de que un número de eventos ocurra en un intervalo fijo de tiempo,\n",
    " dado que los eventos ocurren a una tasa promedio constante.\n",
    "'''\n",
    "lambda_visitas = 500  # visitas promedio por hora\n",
    "umbral = 550  # el servidor se sobrecarga si recibe más de 550 visitas\n",
    "\n",
    "# Calcular la probabilidad acumulada P(X <= 550)\n",
    "prob_acumulada = poisson.cdf(umbral, lambda_visitas)\n",
    "\n",
    "# Probabilidad de que el servidor se sobrecargue\n",
    "probabilidad_sobrecarga = 1 - prob_acumulada\n",
    "print(probabilidad_sobrecarga)"
   ]
  },
  {
   "cell_type": "markdown",
   "metadata": {},
   "source": [
    "What is the probability of being overwhelmed at some point during a day? (consider 24hours)"
   ]
  },
  {
   "cell_type": "code",
   "execution_count": 3,
   "metadata": {},
   "outputs": [
    {
     "name": "stdout",
     "output_type": "stream",
     "text": [
      "0.2677043869515715\n"
     ]
    }
   ],
   "source": [
    "probabilidad_sobrecarga = 1 - prob_acumulada**24\n",
    "print(probabilidad_sobrecarga)"
   ]
  },
  {
   "cell_type": "markdown",
   "metadata": {},
   "source": [
    "**Challenge 4**"
   ]
  },
  {
   "cell_type": "markdown",
   "metadata": {},
   "source": [
    "#### Ironhack Helpdesk"
   ]
  },
  {
   "cell_type": "markdown",
   "metadata": {},
   "source": [
    "Consider a scenario related to the time between arrivals of customers at a service desk.\n",
    "\n",
    "On average, a customers arrives every 10minutes.\n",
    "\n",
    "What is the probability that the next customer will arrive within the next 5 minutes?"
   ]
  },
  {
   "cell_type": "code",
   "execution_count": 4,
   "metadata": {},
   "outputs": [
    {
     "data": {
      "text/plain": [
       "0.3934693402873666"
      ]
     },
     "execution_count": 4,
     "metadata": {},
     "output_type": "execute_result"
    }
   ],
   "source": [
    "import scipy.stats as stats\n",
    "\n",
    "# Parámetros dados\n",
    "lambda_value = 0.1  # tasa de llegada (1 cliente cada 10 minutos)\n",
    "time_limit = 5  # tiempo en minutos\n",
    "\n",
    "# Calcular la probabilidad de que el próximo cliente llegue en 5 minutos\n",
    "probabilidad = stats.expon.cdf(time_limit, scale=1/lambda_value)\n",
    "probabilidad"
   ]
  },
  {
   "cell_type": "markdown",
   "metadata": {},
   "source": [
    "If there is no customer for 15minutes, employees can that a 5minutes break.\n",
    "\n",
    "What is the probability an employee taking a break?"
   ]
  },
  {
   "cell_type": "code",
   "execution_count": null,
   "metadata": {},
   "outputs": [
    {
     "data": {
      "text/plain": [
       "0.7768698398515702"
      ]
     },
     "execution_count": 8,
     "metadata": {},
     "output_type": "execute_result"
    }
   ],
   "source": [
    "import scipy.stats as stats\n",
    "#DISTRIBUCIÓN EXPONENCIAL\n",
    "# Parámetros dados\n",
    "lambda_value = 0.1  # tasa de llegada (1 cliente cada 10 minutos)\n",
    "time_limit = 15  # tiempo sin cliente (en minutos)\n",
    "\n",
    "# Calcular la probabilidad de que no llegue cliente en 15 minutos\n",
    "probabilidad = stats.expon.cdf(time_limit, scale=1/lambda_value)\n",
    "probabilidad"
   ]
  },
  {
   "cell_type": "markdown",
   "metadata": {},
   "source": [
    "**Challenge 5**"
   ]
  },
  {
   "cell_type": "markdown",
   "metadata": {},
   "source": [
    "The weights of a certain species of birds follow a normal distribution with a mean weight of 150 grams and a standard deviation of 10 grams. \n",
    "\n",
    "- If we randomly select a bird, what is the probability that its weight is between 140 and 160 grams?"
   ]
  },
  {
   "cell_type": "code",
   "execution_count": 9,
   "metadata": {},
   "outputs": [
    {
     "data": {
      "text/plain": [
       "0.6826894921370859"
      ]
     },
     "execution_count": 9,
     "metadata": {},
     "output_type": "execute_result"
    }
   ],
   "source": [
    "import scipy.stats as stats\n",
    "\n",
    "# Parámetros dados\n",
    "mu = 150  # media\n",
    "sigma = 10  # desviación estándar\n",
    "\n",
    "# Calcular las probabilidades acumuladas para los valores de 140 y 160 gramos\n",
    "z1 = (140 - mu) / sigma\n",
    "z2 = (160 - mu) / sigma\n",
    "\n",
    "# Probabilidades acumuladas para los z-scores\n",
    "prob_z1 = stats.norm.cdf(z1)\n",
    "prob_z2 = stats.norm.cdf(z2)\n",
    "\n",
    "# Probabilidad de que el peso esté entre 140 y 160 gramos\n",
    "probabilidad = prob_z2 - prob_z1\n",
    "probabilidad"
   ]
  },
  {
   "cell_type": "markdown",
   "metadata": {},
   "source": [
    "**Challenge 6**"
   ]
  },
  {
   "cell_type": "markdown",
   "metadata": {},
   "source": [
    "If the lifetime (in hours) of a certain electronic component follows an exponential distribution with a mean lifetime of 50 hours, what is the probability that the component fails within the first 30 hours?"
   ]
  },
  {
   "cell_type": "code",
   "execution_count": 10,
   "metadata": {},
   "outputs": [
    {
     "data": {
      "text/plain": [
       "0.4511883639059735"
      ]
     },
     "execution_count": 10,
     "metadata": {},
     "output_type": "execute_result"
    }
   ],
   "source": [
    "import scipy.stats as stats\n",
    "\n",
    "# Parámetros dados\n",
    "lambda_rate = 0.02  # tasa de fallos (1 cada 50 horas)\n",
    "time_limit = 30  # tiempo en horas\n",
    "\n",
    "# Calcular la probabilidad de que falle dentro de 30 horas\n",
    "probabilidad_fallo = stats.expon.cdf(time_limit, scale=1/lambda_rate)\n",
    "probabilidad_fallo"
   ]
  }
 ],
 "metadata": {
  "kernelspec": {
   "display_name": "p2_en",
   "language": "python",
   "name": "python3"
  },
  "language_info": {
   "codemirror_mode": {
    "name": "ipython",
    "version": 3
   },
   "file_extension": ".py",
   "mimetype": "text/x-python",
   "name": "python",
   "nbconvert_exporter": "python",
   "pygments_lexer": "ipython3",
   "version": "3.11.10"
  }
 },
 "nbformat": 4,
 "nbformat_minor": 2
}
